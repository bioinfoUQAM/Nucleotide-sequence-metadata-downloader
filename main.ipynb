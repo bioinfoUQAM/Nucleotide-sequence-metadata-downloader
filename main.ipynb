{
 "cells": [
  {
   "cell_type": "code",
   "execution_count": 27,
   "metadata": {},
   "outputs": [],
   "source": [
    "# Import Biopython\n",
    "import Bio\n",
    "# Import pandas\n",
    "import pandas as pd\n",
    "# Initialize data list\n",
    "data = []\n",
    "# Set the fasta file pathway\n",
    "fasta_file = '229924765095.fasta'\n",
    "# Set the email address\n",
    "Bio.Entrez.email = \"\"\n",
    "\n",
    "# Iterate through the sequences of the fasta file\n",
    "for i, record in enumerate (Bio.SeqIO.parse(fasta_file, \"fasta\")):\n",
    "    # Get the accession number\n",
    "    accession_number = record.id\n",
    "    # Get the record in the requested format \n",
    "    handle = Bio.Entrez.efetch(db = \"nucleotide\", id = accession_number, rettype = \"gb\")\n",
    "    # Parses the XML results returned by the above function\n",
    "    record = Bio.SeqIO.read(handle, \"gb\")\n",
    "    # Get the features of the record\n",
    "    features = record.features[0].qualifiers\n",
    "    # Get the sequence\n",
    "    sequence = str(record.seq).upper()\n",
    "    # Get the length of te sequence\n",
    "    sequence_length = len(sequence)\n",
    "    # Get the nucleotide composition\n",
    "    percentage_adenine = round(sequence.count(\"A\") / sequence_length * 100, 2)\n",
    "    percentage_cytosine = round(sequence.count(\"C\") / sequence_length * 100, 2)\n",
    "    percentage_guanine = round(sequence.count(\"G\") / sequence_length * 100, 2)\n",
    "    percentage_thymine = round(sequence.count(\"T\") / sequence_length * 100, 2)\n",
    "    percentage_unknown = round(100 - (percentage_adenine + percentage_cytosine + percentage_guanine + percentage_thymine), 2)\n",
    "    # Get the name of the organism\n",
    "    try: organism = features.get('organism')[0]\n",
    "    except: organism = None\n",
    "    # Get the name of the molecule type\n",
    "    try: molecule_type = features.get('mol_type')[0]\n",
    "    except: molecule_type = None\n",
    "    # Get the strain\n",
    "    try: strain = features.get('strain')[0]\n",
    "    except: strain = None\n",
    "    # Get the isolation source\n",
    "    try: isolation_source = features.get('isolation_source')[0]\n",
    "    except: isolation_source = None\n",
    "    # Get the host\n",
    "    try: host = features.get('host')[0]\n",
    "    except: host = None\n",
    "    # Get the country\n",
    "    try: country = features.get('country')[0]\n",
    "    except: country = None\n",
    "    # Get the collection date\n",
    "    try: collection_date = features.get('collection_date')[0]\n",
    "    except: collection_date = None\n",
    "    # Save the data\n",
    "    data.append([i + 1, accession_number, sequence_length, percentage_adenine, percentage_cytosine, percentage_guanine, percentage_thymine, percentage_unknown, organism, molecule_type, strain, isolation_source, host, country, collection_date])\n",
    "    # Close the record\n",
    "    handle.close()\n",
    "  "
   ]
  },
  {
   "cell_type": "code",
   "execution_count": 28,
   "metadata": {},
   "outputs": [],
   "source": [
    "# Convert data to dataframe\n",
    "df = pd.DataFrame (data, columns = [\"SEQUENCE_NUMBER\",    \"ACCESSION_NUMBER\",    \"SEQUENCE_LENGTH\", \n",
    "                                    \"PERCENTAGE_ADENINE\", \"PERCENTAGE_CYTOSINE\", \"PERCENTAGE_GUANINE\", \n",
    "                                    \"PERCENTAGE_THYMINE\", \"PERCENTAGE_UNKNOWN\",  \"ORGANISM\", \n",
    "                                    \"MOLECULE_TYPE\",      \"STRAIN\",              \"ISOLATION_SOURCE\", \n",
    "                                    \"HOST\",               \"COUNTRY\",             \"COLLECTION_DATE\"])\n",
    "# Save the dataframe to excel file\n",
    "df.to_excel(\"data.xlsx\")                      "
   ]
  }
 ],
 "metadata": {
  "interpreter": {
   "hash": "980f6858f5a2296507f865047a66da8b724ab02099787bb809f4ccd66862ae47"
  },
  "kernelspec": {
   "display_name": "Python 3.9.4 64-bit",
   "name": "python3"
  },
  "language_info": {
   "codemirror_mode": {
    "name": "ipython",
    "version": 3
   },
   "file_extension": ".py",
   "mimetype": "text/x-python",
   "name": "python",
   "nbconvert_exporter": "python",
   "pygments_lexer": "ipython3",
   "version": "3.9.4"
  },
  "orig_nbformat": 4
 },
 "nbformat": 4,
 "nbformat_minor": 2
}
